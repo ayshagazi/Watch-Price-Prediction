{
  "nbformat": 4,
  "nbformat_minor": 0,
  "metadata": {
    "colab": {
      "name": "B2G5.ipynb",
      "provenance": [],
      "collapsed_sections": []
    },
    "kernelspec": {
      "name": "python3",
      "display_name": "Python 3"
    },
    "language_info": {
      "name": "python"
    }
  },
  "cells": [
    {
      "cell_type": "markdown",
      "source": [
        "#Import all required libraries for reading data, analysing and visualizing data\n"
      ],
      "metadata": {
        "id": "A1CCdWimL_-E"
      }
    },
    {
      "cell_type": "code",
      "execution_count": 198,
      "metadata": {
        "id": "PwQ1lmFjZ4D0"
      },
      "outputs": [],
      "source": [
        "import pandas as pd\n",
        "import numpy as np\n",
        "import matplotlib.pyplot as plt\n",
        "from sklearn import linear_model\n",
        "from sklearn import metrics\n",
        "from sklearn import ensemble\n",
        "from sklearn.preprocessing import StandardScaler\n",
        "from sklearn.metrics import mean_squared_error as MSE\n",
        "from sklearn.metrics import mean_absolute_error as MAE\n",
        "from sklearn.metrics import r2_score as r2\n",
        "from sklearn.model_selection import TimeSeriesSplit\n",
        "from sklearn.preprocessing import MinMaxScaler\n"
      ]
    },
    {
      "cell_type": "markdown",
      "source": [
        "Dataset"
      ],
      "metadata": {
        "id": "o-nnTt2LMMLy"
      }
    },
    {
      "cell_type": "code",
      "source": [
        "df = pd.read_csv('/content/Dataset.csv')"
      ],
      "metadata": {
        "id": "-KNqSX4baPHO"
      },
      "execution_count": 171,
      "outputs": []
    },
    {
      "cell_type": "code",
      "source": [
        "df"
      ],
      "metadata": {
        "colab": {
          "base_uri": "https://localhost:8080/",
          "height": 485
        },
        "id": "TKlEf2YbS_bR",
        "outputId": "e877e809-5f43-4240-ec13-ec99f1532651"
      },
      "execution_count": 197,
      "outputs": [
        {
          "output_type": "execute_result",
          "data": {
            "text/html": [
              "\n",
              "  <div id=\"df-aba3b685-e901-4578-87d1-14629569bd1d\">\n",
              "    <div class=\"colab-df-container\">\n",
              "      <div>\n",
              "<style scoped>\n",
              "    .dataframe tbody tr th:only-of-type {\n",
              "        vertical-align: middle;\n",
              "    }\n",
              "\n",
              "    .dataframe tbody tr th {\n",
              "        vertical-align: top;\n",
              "    }\n",
              "\n",
              "    .dataframe thead th {\n",
              "        text-align: right;\n",
              "    }\n",
              "</style>\n",
              "<table border=\"1\" class=\"dataframe\">\n",
              "  <thead>\n",
              "    <tr style=\"text-align: right;\">\n",
              "      <th></th>\n",
              "      <th>Watch</th>\n",
              "      <th>Color</th>\n",
              "      <th>Display Size</th>\n",
              "      <th>Weight</th>\n",
              "      <th>Compatible Device</th>\n",
              "      <th>Heart Rate Checker</th>\n",
              "      <th>GPS</th>\n",
              "      <th>Step Counter</th>\n",
              "      <th>Battery</th>\n",
              "      <th>Water Resistance Level</th>\n",
              "      <th>Price</th>\n",
              "    </tr>\n",
              "  </thead>\n",
              "  <tbody>\n",
              "    <tr>\n",
              "      <th>0</th>\n",
              "      <td>0</td>\n",
              "      <td>3</td>\n",
              "      <td>1.43</td>\n",
              "      <td>85</td>\n",
              "      <td>2</td>\n",
              "      <td>1</td>\n",
              "      <td>0</td>\n",
              "      <td>1</td>\n",
              "      <td>415</td>\n",
              "      <td>20</td>\n",
              "      <td>69.99</td>\n",
              "    </tr>\n",
              "    <tr>\n",
              "      <th>1</th>\n",
              "      <td>0</td>\n",
              "      <td>6</td>\n",
              "      <td>1.34</td>\n",
              "      <td>75</td>\n",
              "      <td>2</td>\n",
              "      <td>0</td>\n",
              "      <td>1</td>\n",
              "      <td>1</td>\n",
              "      <td>340</td>\n",
              "      <td>10</td>\n",
              "      <td>84.99</td>\n",
              "    </tr>\n",
              "    <tr>\n",
              "      <th>2</th>\n",
              "      <td>0</td>\n",
              "      <td>0</td>\n",
              "      <td>1.34</td>\n",
              "      <td>75</td>\n",
              "      <td>2</td>\n",
              "      <td>0</td>\n",
              "      <td>1</td>\n",
              "      <td>1</td>\n",
              "      <td>340</td>\n",
              "      <td>10</td>\n",
              "      <td>90.55</td>\n",
              "    </tr>\n",
              "    <tr>\n",
              "      <th>3</th>\n",
              "      <td>0</td>\n",
              "      <td>6</td>\n",
              "      <td>1.34</td>\n",
              "      <td>75</td>\n",
              "      <td>2</td>\n",
              "      <td>0</td>\n",
              "      <td>1</td>\n",
              "      <td>1</td>\n",
              "      <td>340</td>\n",
              "      <td>10</td>\n",
              "      <td>84.99</td>\n",
              "    </tr>\n",
              "    <tr>\n",
              "      <th>4</th>\n",
              "      <td>0</td>\n",
              "      <td>3</td>\n",
              "      <td>1.43</td>\n",
              "      <td>85</td>\n",
              "      <td>2</td>\n",
              "      <td>1</td>\n",
              "      <td>0</td>\n",
              "      <td>1</td>\n",
              "      <td>415</td>\n",
              "      <td>20</td>\n",
              "      <td>69.99</td>\n",
              "    </tr>\n",
              "    <tr>\n",
              "      <th>...</th>\n",
              "      <td>...</td>\n",
              "      <td>...</td>\n",
              "      <td>...</td>\n",
              "      <td>...</td>\n",
              "      <td>...</td>\n",
              "      <td>...</td>\n",
              "      <td>...</td>\n",
              "      <td>...</td>\n",
              "      <td>...</td>\n",
              "      <td>...</td>\n",
              "      <td>...</td>\n",
              "    </tr>\n",
              "    <tr>\n",
              "      <th>314</th>\n",
              "      <td>30</td>\n",
              "      <td>8</td>\n",
              "      <td>1.35</td>\n",
              "      <td>85</td>\n",
              "      <td>0</td>\n",
              "      <td>0</td>\n",
              "      <td>1</td>\n",
              "      <td>1</td>\n",
              "      <td>270</td>\n",
              "      <td>10</td>\n",
              "      <td>110.99</td>\n",
              "    </tr>\n",
              "    <tr>\n",
              "      <th>315</th>\n",
              "      <td>30</td>\n",
              "      <td>0</td>\n",
              "      <td>1.10</td>\n",
              "      <td>55</td>\n",
              "      <td>0</td>\n",
              "      <td>1</td>\n",
              "      <td>0</td>\n",
              "      <td>1</td>\n",
              "      <td>250</td>\n",
              "      <td>0</td>\n",
              "      <td>129.99</td>\n",
              "    </tr>\n",
              "    <tr>\n",
              "      <th>316</th>\n",
              "      <td>30</td>\n",
              "      <td>0</td>\n",
              "      <td>1.10</td>\n",
              "      <td>55</td>\n",
              "      <td>0</td>\n",
              "      <td>1</td>\n",
              "      <td>0</td>\n",
              "      <td>1</td>\n",
              "      <td>250</td>\n",
              "      <td>0</td>\n",
              "      <td>129.99</td>\n",
              "    </tr>\n",
              "    <tr>\n",
              "      <th>317</th>\n",
              "      <td>30</td>\n",
              "      <td>0</td>\n",
              "      <td>1.36</td>\n",
              "      <td>75</td>\n",
              "      <td>0</td>\n",
              "      <td>0</td>\n",
              "      <td>0</td>\n",
              "      <td>1</td>\n",
              "      <td>200</td>\n",
              "      <td>5</td>\n",
              "      <td>129.99</td>\n",
              "    </tr>\n",
              "    <tr>\n",
              "      <th>318</th>\n",
              "      <td>30</td>\n",
              "      <td>8</td>\n",
              "      <td>1.35</td>\n",
              "      <td>85</td>\n",
              "      <td>0</td>\n",
              "      <td>0</td>\n",
              "      <td>1</td>\n",
              "      <td>1</td>\n",
              "      <td>270</td>\n",
              "      <td>10</td>\n",
              "      <td>110.99</td>\n",
              "    </tr>\n",
              "  </tbody>\n",
              "</table>\n",
              "<p>319 rows × 11 columns</p>\n",
              "</div>\n",
              "      <button class=\"colab-df-convert\" onclick=\"convertToInteractive('df-aba3b685-e901-4578-87d1-14629569bd1d')\"\n",
              "              title=\"Convert this dataframe to an interactive table.\"\n",
              "              style=\"display:none;\">\n",
              "        \n",
              "  <svg xmlns=\"http://www.w3.org/2000/svg\" height=\"24px\"viewBox=\"0 0 24 24\"\n",
              "       width=\"24px\">\n",
              "    <path d=\"M0 0h24v24H0V0z\" fill=\"none\"/>\n",
              "    <path d=\"M18.56 5.44l.94 2.06.94-2.06 2.06-.94-2.06-.94-.94-2.06-.94 2.06-2.06.94zm-11 1L8.5 8.5l.94-2.06 2.06-.94-2.06-.94L8.5 2.5l-.94 2.06-2.06.94zm10 10l.94 2.06.94-2.06 2.06-.94-2.06-.94-.94-2.06-.94 2.06-2.06.94z\"/><path d=\"M17.41 7.96l-1.37-1.37c-.4-.4-.92-.59-1.43-.59-.52 0-1.04.2-1.43.59L10.3 9.45l-7.72 7.72c-.78.78-.78 2.05 0 2.83L4 21.41c.39.39.9.59 1.41.59.51 0 1.02-.2 1.41-.59l7.78-7.78 2.81-2.81c.8-.78.8-2.07 0-2.86zM5.41 20L4 18.59l7.72-7.72 1.47 1.35L5.41 20z\"/>\n",
              "  </svg>\n",
              "      </button>\n",
              "      \n",
              "  <style>\n",
              "    .colab-df-container {\n",
              "      display:flex;\n",
              "      flex-wrap:wrap;\n",
              "      gap: 12px;\n",
              "    }\n",
              "\n",
              "    .colab-df-convert {\n",
              "      background-color: #E8F0FE;\n",
              "      border: none;\n",
              "      border-radius: 50%;\n",
              "      cursor: pointer;\n",
              "      display: none;\n",
              "      fill: #1967D2;\n",
              "      height: 32px;\n",
              "      padding: 0 0 0 0;\n",
              "      width: 32px;\n",
              "    }\n",
              "\n",
              "    .colab-df-convert:hover {\n",
              "      background-color: #E2EBFA;\n",
              "      box-shadow: 0px 1px 2px rgba(60, 64, 67, 0.3), 0px 1px 3px 1px rgba(60, 64, 67, 0.15);\n",
              "      fill: #174EA6;\n",
              "    }\n",
              "\n",
              "    [theme=dark] .colab-df-convert {\n",
              "      background-color: #3B4455;\n",
              "      fill: #D2E3FC;\n",
              "    }\n",
              "\n",
              "    [theme=dark] .colab-df-convert:hover {\n",
              "      background-color: #434B5C;\n",
              "      box-shadow: 0px 1px 3px 1px rgba(0, 0, 0, 0.15);\n",
              "      filter: drop-shadow(0px 1px 2px rgba(0, 0, 0, 0.3));\n",
              "      fill: #FFFFFF;\n",
              "    }\n",
              "  </style>\n",
              "\n",
              "      <script>\n",
              "        const buttonEl =\n",
              "          document.querySelector('#df-aba3b685-e901-4578-87d1-14629569bd1d button.colab-df-convert');\n",
              "        buttonEl.style.display =\n",
              "          google.colab.kernel.accessAllowed ? 'block' : 'none';\n",
              "\n",
              "        async function convertToInteractive(key) {\n",
              "          const element = document.querySelector('#df-aba3b685-e901-4578-87d1-14629569bd1d');\n",
              "          const dataTable =\n",
              "            await google.colab.kernel.invokeFunction('convertToInteractive',\n",
              "                                                     [key], {});\n",
              "          if (!dataTable) return;\n",
              "\n",
              "          const docLinkHtml = 'Like what you see? Visit the ' +\n",
              "            '<a target=\"_blank\" href=https://colab.research.google.com/notebooks/data_table.ipynb>data table notebook</a>'\n",
              "            + ' to learn more about interactive tables.';\n",
              "          element.innerHTML = '';\n",
              "          dataTable['output_type'] = 'display_data';\n",
              "          await google.colab.output.renderOutput(dataTable, element);\n",
              "          const docLink = document.createElement('div');\n",
              "          docLink.innerHTML = docLinkHtml;\n",
              "          element.appendChild(docLink);\n",
              "        }\n",
              "      </script>\n",
              "    </div>\n",
              "  </div>\n",
              "  "
            ],
            "text/plain": [
              "     Watch  Color  Display Size  Weight  Compatible Device  \\\n",
              "0        0      3          1.43      85                  2   \n",
              "1        0      6          1.34      75                  2   \n",
              "2        0      0          1.34      75                  2   \n",
              "3        0      6          1.34      75                  2   \n",
              "4        0      3          1.43      85                  2   \n",
              "..     ...    ...           ...     ...                ...   \n",
              "314     30      8          1.35      85                  0   \n",
              "315     30      0          1.10      55                  0   \n",
              "316     30      0          1.10      55                  0   \n",
              "317     30      0          1.36      75                  0   \n",
              "318     30      8          1.35      85                  0   \n",
              "\n",
              "     Heart Rate Checker  GPS  Step Counter  Battery  Water Resistance Level  \\\n",
              "0                     1    0             1      415                      20   \n",
              "1                     0    1             1      340                      10   \n",
              "2                     0    1             1      340                      10   \n",
              "3                     0    1             1      340                      10   \n",
              "4                     1    0             1      415                      20   \n",
              "..                  ...  ...           ...      ...                     ...   \n",
              "314                   0    1             1      270                      10   \n",
              "315                   1    0             1      250                       0   \n",
              "316                   1    0             1      250                       0   \n",
              "317                   0    0             1      200                       5   \n",
              "318                   0    1             1      270                      10   \n",
              "\n",
              "     Price   \n",
              "0     69.99  \n",
              "1     84.99  \n",
              "2     90.55  \n",
              "3     84.99  \n",
              "4     69.99  \n",
              "..      ...  \n",
              "314  110.99  \n",
              "315  129.99  \n",
              "316  129.99  \n",
              "317  129.99  \n",
              "318  110.99  \n",
              "\n",
              "[319 rows x 11 columns]"
            ]
          },
          "metadata": {},
          "execution_count": 197
        }
      ]
    },
    {
      "cell_type": "markdown",
      "source": [
        "Converting Object values to Number values"
      ],
      "metadata": {
        "id": "-pJKLw-ONk-b"
      }
    },
    {
      "cell_type": "code",
      "source": [
        "df2=df\n",
        "categorical_cols = ['Watch','Color','Compatible Device','Heart Rate Checker','GPS','Step Counter'] \n",
        "\n",
        "from sklearn.preprocessing import LabelEncoder\n",
        "# instantiate labelencoder object\n",
        "le = LabelEncoder()\n",
        "\n",
        "# apply le on categorical feature columns\n",
        "df[categorical_cols] = df[categorical_cols].apply(lambda col: le.fit_transform(col))\n"
      ],
      "metadata": {
        "id": "ieQxXh-YalOE"
      },
      "execution_count": 196,
      "outputs": []
    },
    {
      "cell_type": "code",
      "source": [
        "df2"
      ],
      "metadata": {
        "colab": {
          "base_uri": "https://localhost:8080/",
          "height": 485
        },
        "id": "pCbbEmhNapW2",
        "outputId": "11869b1e-d04e-4cfd-c9c3-69063f8d76a0"
      },
      "execution_count": 195,
      "outputs": [
        {
          "output_type": "execute_result",
          "data": {
            "text/html": [
              "\n",
              "  <div id=\"df-035a5df0-3964-41cf-adfe-117cc3649b31\">\n",
              "    <div class=\"colab-df-container\">\n",
              "      <div>\n",
              "<style scoped>\n",
              "    .dataframe tbody tr th:only-of-type {\n",
              "        vertical-align: middle;\n",
              "    }\n",
              "\n",
              "    .dataframe tbody tr th {\n",
              "        vertical-align: top;\n",
              "    }\n",
              "\n",
              "    .dataframe thead th {\n",
              "        text-align: right;\n",
              "    }\n",
              "</style>\n",
              "<table border=\"1\" class=\"dataframe\">\n",
              "  <thead>\n",
              "    <tr style=\"text-align: right;\">\n",
              "      <th></th>\n",
              "      <th>Watch</th>\n",
              "      <th>Color</th>\n",
              "      <th>Display Size</th>\n",
              "      <th>Weight</th>\n",
              "      <th>Compatible Device</th>\n",
              "      <th>Heart Rate Checker</th>\n",
              "      <th>GPS</th>\n",
              "      <th>Step Counter</th>\n",
              "      <th>Battery</th>\n",
              "      <th>Water Resistance Level</th>\n",
              "      <th>Price</th>\n",
              "    </tr>\n",
              "  </thead>\n",
              "  <tbody>\n",
              "    <tr>\n",
              "      <th>0</th>\n",
              "      <td>0</td>\n",
              "      <td>3</td>\n",
              "      <td>1.43</td>\n",
              "      <td>85</td>\n",
              "      <td>2</td>\n",
              "      <td>1</td>\n",
              "      <td>0</td>\n",
              "      <td>1</td>\n",
              "      <td>415</td>\n",
              "      <td>20</td>\n",
              "      <td>69.99</td>\n",
              "    </tr>\n",
              "    <tr>\n",
              "      <th>1</th>\n",
              "      <td>0</td>\n",
              "      <td>6</td>\n",
              "      <td>1.34</td>\n",
              "      <td>75</td>\n",
              "      <td>2</td>\n",
              "      <td>0</td>\n",
              "      <td>1</td>\n",
              "      <td>1</td>\n",
              "      <td>340</td>\n",
              "      <td>10</td>\n",
              "      <td>84.99</td>\n",
              "    </tr>\n",
              "    <tr>\n",
              "      <th>2</th>\n",
              "      <td>0</td>\n",
              "      <td>0</td>\n",
              "      <td>1.34</td>\n",
              "      <td>75</td>\n",
              "      <td>2</td>\n",
              "      <td>0</td>\n",
              "      <td>1</td>\n",
              "      <td>1</td>\n",
              "      <td>340</td>\n",
              "      <td>10</td>\n",
              "      <td>90.55</td>\n",
              "    </tr>\n",
              "    <tr>\n",
              "      <th>3</th>\n",
              "      <td>0</td>\n",
              "      <td>6</td>\n",
              "      <td>1.34</td>\n",
              "      <td>75</td>\n",
              "      <td>2</td>\n",
              "      <td>0</td>\n",
              "      <td>1</td>\n",
              "      <td>1</td>\n",
              "      <td>340</td>\n",
              "      <td>10</td>\n",
              "      <td>84.99</td>\n",
              "    </tr>\n",
              "    <tr>\n",
              "      <th>4</th>\n",
              "      <td>0</td>\n",
              "      <td>3</td>\n",
              "      <td>1.43</td>\n",
              "      <td>85</td>\n",
              "      <td>2</td>\n",
              "      <td>1</td>\n",
              "      <td>0</td>\n",
              "      <td>1</td>\n",
              "      <td>415</td>\n",
              "      <td>20</td>\n",
              "      <td>69.99</td>\n",
              "    </tr>\n",
              "    <tr>\n",
              "      <th>...</th>\n",
              "      <td>...</td>\n",
              "      <td>...</td>\n",
              "      <td>...</td>\n",
              "      <td>...</td>\n",
              "      <td>...</td>\n",
              "      <td>...</td>\n",
              "      <td>...</td>\n",
              "      <td>...</td>\n",
              "      <td>...</td>\n",
              "      <td>...</td>\n",
              "      <td>...</td>\n",
              "    </tr>\n",
              "    <tr>\n",
              "      <th>314</th>\n",
              "      <td>30</td>\n",
              "      <td>8</td>\n",
              "      <td>1.35</td>\n",
              "      <td>85</td>\n",
              "      <td>0</td>\n",
              "      <td>0</td>\n",
              "      <td>1</td>\n",
              "      <td>1</td>\n",
              "      <td>270</td>\n",
              "      <td>10</td>\n",
              "      <td>110.99</td>\n",
              "    </tr>\n",
              "    <tr>\n",
              "      <th>315</th>\n",
              "      <td>30</td>\n",
              "      <td>0</td>\n",
              "      <td>1.10</td>\n",
              "      <td>55</td>\n",
              "      <td>0</td>\n",
              "      <td>1</td>\n",
              "      <td>0</td>\n",
              "      <td>1</td>\n",
              "      <td>250</td>\n",
              "      <td>0</td>\n",
              "      <td>129.99</td>\n",
              "    </tr>\n",
              "    <tr>\n",
              "      <th>316</th>\n",
              "      <td>30</td>\n",
              "      <td>0</td>\n",
              "      <td>1.10</td>\n",
              "      <td>55</td>\n",
              "      <td>0</td>\n",
              "      <td>1</td>\n",
              "      <td>0</td>\n",
              "      <td>1</td>\n",
              "      <td>250</td>\n",
              "      <td>0</td>\n",
              "      <td>129.99</td>\n",
              "    </tr>\n",
              "    <tr>\n",
              "      <th>317</th>\n",
              "      <td>30</td>\n",
              "      <td>0</td>\n",
              "      <td>1.36</td>\n",
              "      <td>75</td>\n",
              "      <td>0</td>\n",
              "      <td>0</td>\n",
              "      <td>0</td>\n",
              "      <td>1</td>\n",
              "      <td>200</td>\n",
              "      <td>5</td>\n",
              "      <td>129.99</td>\n",
              "    </tr>\n",
              "    <tr>\n",
              "      <th>318</th>\n",
              "      <td>30</td>\n",
              "      <td>8</td>\n",
              "      <td>1.35</td>\n",
              "      <td>85</td>\n",
              "      <td>0</td>\n",
              "      <td>0</td>\n",
              "      <td>1</td>\n",
              "      <td>1</td>\n",
              "      <td>270</td>\n",
              "      <td>10</td>\n",
              "      <td>110.99</td>\n",
              "    </tr>\n",
              "  </tbody>\n",
              "</table>\n",
              "<p>319 rows × 11 columns</p>\n",
              "</div>\n",
              "      <button class=\"colab-df-convert\" onclick=\"convertToInteractive('df-035a5df0-3964-41cf-adfe-117cc3649b31')\"\n",
              "              title=\"Convert this dataframe to an interactive table.\"\n",
              "              style=\"display:none;\">\n",
              "        \n",
              "  <svg xmlns=\"http://www.w3.org/2000/svg\" height=\"24px\"viewBox=\"0 0 24 24\"\n",
              "       width=\"24px\">\n",
              "    <path d=\"M0 0h24v24H0V0z\" fill=\"none\"/>\n",
              "    <path d=\"M18.56 5.44l.94 2.06.94-2.06 2.06-.94-2.06-.94-.94-2.06-.94 2.06-2.06.94zm-11 1L8.5 8.5l.94-2.06 2.06-.94-2.06-.94L8.5 2.5l-.94 2.06-2.06.94zm10 10l.94 2.06.94-2.06 2.06-.94-2.06-.94-.94-2.06-.94 2.06-2.06.94z\"/><path d=\"M17.41 7.96l-1.37-1.37c-.4-.4-.92-.59-1.43-.59-.52 0-1.04.2-1.43.59L10.3 9.45l-7.72 7.72c-.78.78-.78 2.05 0 2.83L4 21.41c.39.39.9.59 1.41.59.51 0 1.02-.2 1.41-.59l7.78-7.78 2.81-2.81c.8-.78.8-2.07 0-2.86zM5.41 20L4 18.59l7.72-7.72 1.47 1.35L5.41 20z\"/>\n",
              "  </svg>\n",
              "      </button>\n",
              "      \n",
              "  <style>\n",
              "    .colab-df-container {\n",
              "      display:flex;\n",
              "      flex-wrap:wrap;\n",
              "      gap: 12px;\n",
              "    }\n",
              "\n",
              "    .colab-df-convert {\n",
              "      background-color: #E8F0FE;\n",
              "      border: none;\n",
              "      border-radius: 50%;\n",
              "      cursor: pointer;\n",
              "      display: none;\n",
              "      fill: #1967D2;\n",
              "      height: 32px;\n",
              "      padding: 0 0 0 0;\n",
              "      width: 32px;\n",
              "    }\n",
              "\n",
              "    .colab-df-convert:hover {\n",
              "      background-color: #E2EBFA;\n",
              "      box-shadow: 0px 1px 2px rgba(60, 64, 67, 0.3), 0px 1px 3px 1px rgba(60, 64, 67, 0.15);\n",
              "      fill: #174EA6;\n",
              "    }\n",
              "\n",
              "    [theme=dark] .colab-df-convert {\n",
              "      background-color: #3B4455;\n",
              "      fill: #D2E3FC;\n",
              "    }\n",
              "\n",
              "    [theme=dark] .colab-df-convert:hover {\n",
              "      background-color: #434B5C;\n",
              "      box-shadow: 0px 1px 3px 1px rgba(0, 0, 0, 0.15);\n",
              "      filter: drop-shadow(0px 1px 2px rgba(0, 0, 0, 0.3));\n",
              "      fill: #FFFFFF;\n",
              "    }\n",
              "  </style>\n",
              "\n",
              "      <script>\n",
              "        const buttonEl =\n",
              "          document.querySelector('#df-035a5df0-3964-41cf-adfe-117cc3649b31 button.colab-df-convert');\n",
              "        buttonEl.style.display =\n",
              "          google.colab.kernel.accessAllowed ? 'block' : 'none';\n",
              "\n",
              "        async function convertToInteractive(key) {\n",
              "          const element = document.querySelector('#df-035a5df0-3964-41cf-adfe-117cc3649b31');\n",
              "          const dataTable =\n",
              "            await google.colab.kernel.invokeFunction('convertToInteractive',\n",
              "                                                     [key], {});\n",
              "          if (!dataTable) return;\n",
              "\n",
              "          const docLinkHtml = 'Like what you see? Visit the ' +\n",
              "            '<a target=\"_blank\" href=https://colab.research.google.com/notebooks/data_table.ipynb>data table notebook</a>'\n",
              "            + ' to learn more about interactive tables.';\n",
              "          element.innerHTML = '';\n",
              "          dataTable['output_type'] = 'display_data';\n",
              "          await google.colab.output.renderOutput(dataTable, element);\n",
              "          const docLink = document.createElement('div');\n",
              "          docLink.innerHTML = docLinkHtml;\n",
              "          element.appendChild(docLink);\n",
              "        }\n",
              "      </script>\n",
              "    </div>\n",
              "  </div>\n",
              "  "
            ],
            "text/plain": [
              "     Watch  Color  Display Size  Weight  Compatible Device  \\\n",
              "0        0      3          1.43      85                  2   \n",
              "1        0      6          1.34      75                  2   \n",
              "2        0      0          1.34      75                  2   \n",
              "3        0      6          1.34      75                  2   \n",
              "4        0      3          1.43      85                  2   \n",
              "..     ...    ...           ...     ...                ...   \n",
              "314     30      8          1.35      85                  0   \n",
              "315     30      0          1.10      55                  0   \n",
              "316     30      0          1.10      55                  0   \n",
              "317     30      0          1.36      75                  0   \n",
              "318     30      8          1.35      85                  0   \n",
              "\n",
              "     Heart Rate Checker  GPS  Step Counter  Battery  Water Resistance Level  \\\n",
              "0                     1    0             1      415                      20   \n",
              "1                     0    1             1      340                      10   \n",
              "2                     0    1             1      340                      10   \n",
              "3                     0    1             1      340                      10   \n",
              "4                     1    0             1      415                      20   \n",
              "..                  ...  ...           ...      ...                     ...   \n",
              "314                   0    1             1      270                      10   \n",
              "315                   1    0             1      250                       0   \n",
              "316                   1    0             1      250                       0   \n",
              "317                   0    0             1      200                       5   \n",
              "318                   0    1             1      270                      10   \n",
              "\n",
              "     Price   \n",
              "0     69.99  \n",
              "1     84.99  \n",
              "2     90.55  \n",
              "3     84.99  \n",
              "4     69.99  \n",
              "..      ...  \n",
              "314  110.99  \n",
              "315  129.99  \n",
              "316  129.99  \n",
              "317  129.99  \n",
              "318  110.99  \n",
              "\n",
              "[319 rows x 11 columns]"
            ]
          },
          "metadata": {},
          "execution_count": 195
        }
      ]
    },
    {
      "cell_type": "code",
      "source": [
        ""
      ],
      "metadata": {
        "id": "H3XJK3QkiQTu"
      },
      "execution_count": 162,
      "outputs": []
    },
    {
      "cell_type": "markdown",
      "source": [
        "Train the Dataset"
      ],
      "metadata": {
        "id": "jqWxM4JDN3Mr"
      }
    },
    {
      "cell_type": "code",
      "source": [
        "X= df2.iloc[:,0:9].values\n",
        "Y= df2.iloc[:,9:10].values\n",
        "\n",
        "reg = linear_model.LinearRegression()\n",
        "\n",
        "scale = StandardScaler()\n",
        "X= scale.fit_transform(X)\n",
        "Y= scale.fit_transform(Y)\n",
        "\n",
        "from sklearn.model_selection import train_test_split\n",
        "X_train, X_test, Y_train, Y_test = train_test_split(X,Y,test_size=.2,random_state=0)\n",
        "\n",
        "reg.fit(X_train,Y_train)"
      ],
      "metadata": {
        "colab": {
          "base_uri": "https://localhost:8080/"
        },
        "id": "vr8toKJhau9S",
        "outputId": "e0b787b8-a414-4a90-83b6-cf63ac93cb65"
      },
      "execution_count": 194,
      "outputs": [
        {
          "output_type": "execute_result",
          "data": {
            "text/plain": [
              "LinearRegression()"
            ]
          },
          "metadata": {},
          "execution_count": 194
        }
      ]
    },
    {
      "cell_type": "markdown",
      "source": [
        "**Linear Regression**"
      ],
      "metadata": {
        "id": "uRBtfYERPI1y"
      }
    },
    {
      "cell_type": "code",
      "source": [
        "y_pred = reg.predict(X_test)\n",
        "y_pred\n",
        "mse_l = MSE(Y_test,y_pred)\n",
        "print(\"Mean Squared Error of Linear Regression       : \",mse_l)\n",
        "rmse_l = mse_l**(1/2)\n",
        "print(\"Root Mean Squared Error of Linear Regression  : \",rmse_l)\n",
        "mae_l = MAE(Y_test,y_pred)\n",
        "print(\"Mean Absolute Error of Linear Regression      : \",mae_l)\n",
        "rsquare_l = r2(Y_test,y_pred)\n",
        "print(\"R_Square of Linear Regression                 : \",rsquare_l)\n",
        "test_data_prediction=reg.predict(X_test)\n"
      ],
      "metadata": {
        "colab": {
          "base_uri": "https://localhost:8080/"
        },
        "id": "eEsT_lzray3_",
        "outputId": "79736b88-cb57-4552-9140-fec3e50fe1a5"
      },
      "execution_count": 193,
      "outputs": [
        {
          "output_type": "stream",
          "name": "stdout",
          "text": [
            "Mean Squared Error of Linear Regression       :  0.7948834448093369\n",
            "Root Mean Squared Error of Linear Regression  :  0.8915623617051905\n",
            "Mean Absolute Error of Linear Regression      :  0.7049482265424928\n",
            "R_Square of Linear Regression                 :  0.17375799245568024\n"
          ]
        }
      ]
    },
    {
      "cell_type": "markdown",
      "source": [
        "**Polynomial Regression**"
      ],
      "metadata": {
        "id": "3GIQd2a3PPJJ"
      }
    },
    {
      "cell_type": "code",
      "source": [
        "from sklearn.preprocessing import PolynomialFeatures\n",
        "poly = PolynomialFeatures(degree=2)\n",
        "x_poly = poly.fit_transform(X_train)\n",
        "poly.fit(X_train,Y_train)\n",
        "\n",
        "from sklearn.linear_model import LinearRegression\n",
        "model = LinearRegression()\n",
        "model.fit(x_poly,Y_train)\n",
        "\n",
        "y_pred = model.predict(poly.fit_transform(X_test))\n",
        "y_pred\n",
        "mse_p = MSE(Y_test,y_pred)\n",
        "print(\"Mean Squared Error of Polynomial Regression   : \",mse_p)\n",
        "rmse_p = mse_p**(1/2)\n",
        "print(\"Root Mean Squared Error of Linear Regression  : \",rmse_p) \n",
        "mae_p = MAE(Y_test,y_pred)\n",
        "print(\"Mean Absolute Error of Polynomial Regression  : \",mae_p)\n",
        "rsquare_p = r2(Y_test,y_pred)\n",
        "print(\"R_Square of Polynomial Regression             : \",rsquare_p)\n"
      ],
      "metadata": {
        "colab": {
          "base_uri": "https://localhost:8080/"
        },
        "id": "YsS45iu3Mv5D",
        "outputId": "123ebbd6-ddc7-4b39-aa22-f9a9a72311ed"
      },
      "execution_count": 192,
      "outputs": [
        {
          "output_type": "stream",
          "name": "stdout",
          "text": [
            "Mean Squared Error of Polynomial Regression   :  0.5916762226721219\n",
            "Root Mean Squared Error of Linear Regression  :  0.7692049289182448\n",
            "Mean Absolute Error of Polynomial Regression  :  0.521311588803465\n",
            "R_Square of Polynomial Regression             :  0.3849818445343075\n"
          ]
        }
      ]
    },
    {
      "cell_type": "markdown",
      "source": [
        "**Decision Tree Regression**"
      ],
      "metadata": {
        "id": "1XxMyXvcPZbp"
      }
    },
    {
      "cell_type": "code",
      "source": [
        "from sklearn.tree import DecisionTreeRegressor\n",
        "from sklearn.metrics import mean_squared_error as MSE \n",
        "\n",
        "dt = DecisionTreeRegressor(max_depth=7,min_samples_leaf=0.1,random_state=0)\n",
        "dt.fit(X_train,Y_train)\n",
        "y_pred = dt.predict(X_test)\n",
        "y_pred\n",
        "mse_d = MSE(Y_test,y_pred)\n",
        "print(\"Mean Squared Error of Decision Tree Regression  : \",mse_d)\n",
        "rmse_d = mse_d**(1/2)\n",
        "print(\"Root Mean Squared Error of Linear Regression    : \",rmse_d)\n",
        "mae_d = MAE(Y_test,y_pred)\n",
        "print(\"Mean Absolute Error of Decision Tree Regression : \",mae_d)\n",
        "rsquare_d = r2(Y_test,y_pred)\n",
        "print(\"R_Square of Decision Tree Regression            : \",rsquare_d)\n"
      ],
      "metadata": {
        "colab": {
          "base_uri": "https://localhost:8080/"
        },
        "id": "nScRdU9ia9rb",
        "outputId": "b09b2007-5404-40a1-c17f-e6b0745b606f"
      },
      "execution_count": 191,
      "outputs": [
        {
          "output_type": "stream",
          "name": "stdout",
          "text": [
            "Mean Squared Error of Decision Tree Regression  :  0.605002507540569\n",
            "Root Mean Squared Error of Linear Regression    :  0.7778190712116597\n",
            "Mean Absolute Error of Decision Tree Regression :  0.6181658042912633\n",
            "R_Square of Decision Tree Regression            :  0.37112983084008067\n"
          ]
        }
      ]
    },
    {
      "cell_type": "markdown",
      "source": [
        "**Bayesian Regression**"
      ],
      "metadata": {
        "id": "oWe2yymgPd4i"
      }
    },
    {
      "cell_type": "code",
      "source": [
        "BayReg = linear_model.BayesianRidge()\n",
        "BayReg.fit(X_train,Y_train.ravel())\n",
        "\n",
        "y_pred = BayReg.predict(X_test)\n",
        "y_pred\n",
        "\n",
        "mse_b = MSE(Y_test,y_pred)\n",
        "print(\"Mean Squared Error of Bayesian Regression     : \",mse_b)\n",
        "rmse_b = mse_b**(1/2)\n",
        "print(\"Root Mean Squared Error of Linear Regression  : \",rmse_d)\n",
        "mae_b = MAE(Y_test,y_pred)\n",
        "print(\"Mean Absolute Error of Bayesian Regression    : \",mae_b)\n",
        "rsquare_b = r2(Y_test,y_pred)\n",
        "print(\"R_Square of Bayesian Regression               : \",rsquare_b)\n"
      ],
      "metadata": {
        "colab": {
          "base_uri": "https://localhost:8080/"
        },
        "id": "NrVsy0z0bEmF",
        "outputId": "8b0559d2-4f70-4832-e012-2495bc1f02a9"
      },
      "execution_count": 190,
      "outputs": [
        {
          "output_type": "stream",
          "name": "stdout",
          "text": [
            "Mean Squared Error of Bayesian Regression     :  0.8097714798819173\n",
            "Root Mean Squared Error of Linear Regression  :  0.7778190712116597\n",
            "Mean Absolute Error of Bayesian Regression    :  0.7087272440084513\n",
            "R_Square of Bayesian Regression               :  0.1582826167045729\n"
          ]
        }
      ]
    },
    {
      "cell_type": "markdown",
      "source": [
        "**Random Forrest Regression**"
      ],
      "metadata": {
        "id": "9w7P_ZxcPVqq"
      }
    },
    {
      "cell_type": "code",
      "source": [
        "from sklearn.ensemble import RandomForestRegressor\n",
        "\n",
        "RfReg = RandomForestRegressor(n_estimators=15, random_state=0)\n",
        "RfReg.fit(X_train,Y_train.ravel())\n",
        "y_pred = RfReg.predict(X_test)\n",
        "y_pred\n",
        "mse_r = MSE(Y_test,y_pred)\n",
        "print(\"Mean Squared Error of Random Forest Regression   : \",mse_r)\n",
        "rmse_r = mse_r**(1/2)\n",
        "print(\"Root Mean Squared Error of Linear Regression     : \",rmse_r)\n",
        "mae_r = MAE(Y_test,y_pred)\n",
        "print(\"Mean Absolute Error of Random Forest Regression  : \",mae_r)\n",
        "rsquare_r = r2(Y_test,y_pred)\n",
        "print(\"R_Square of Random Forest Regression             : \",rsquare_r)"
      ],
      "metadata": {
        "colab": {
          "base_uri": "https://localhost:8080/"
        },
        "id": "cGE8AJRYa7-3",
        "outputId": "bcc4a496-79be-497a-b205-84f53733e603"
      },
      "execution_count": 189,
      "outputs": [
        {
          "output_type": "stream",
          "name": "stdout",
          "text": [
            "Mean Squared Error of Random Forest Regression   :  0.2593618398652029\n",
            "Root Mean Squared Error of Linear Regression     :  0.509275799410499\n",
            "Mean Absolute Error of Random Forest Regression  :  0.23250831399341926\n",
            "R_Square of Random Forest Regression             :  0.7304062015003783\n"
          ]
        }
      ]
    },
    {
      "cell_type": "markdown",
      "source": [
        "**Support Vector Regression**"
      ],
      "metadata": {
        "id": "ljyRVmyQPmxK"
      }
    },
    {
      "cell_type": "code",
      "source": [
        "from sklearn.svm import SVR\n",
        "regressor = SVR(kernel = 'rbf')\n",
        "regressor.fit(X_train,Y_train.ravel())\n",
        "\n",
        "y_pred = regressor.predict(X_test)\n",
        "y_pred\n",
        "\n",
        "mse_s = MSE(Y_test,y_pred)\n",
        "print(\"Mean Squared Error of Support Vector Regression  : \",mse_s)\n",
        "rmse_s = mse_s**(1/2)\n",
        "print(\"Root Mean Squared Error of Linear Regression     : \",rmse_s)\n",
        "mae_s = MAE(Y_test,y_pred)\n",
        "print(\"Mean Absolute Error of Support Vector Regression : \",mae_s)\n",
        "rsquare_s = r2(Y_test,y_pred)\n",
        "print(\"R_Square of Support Vector Regression            : \",rsquare_s)\n"
      ],
      "metadata": {
        "colab": {
          "base_uri": "https://localhost:8080/"
        },
        "id": "h_tL-1cFbHnI",
        "outputId": "97527164-4b3b-48de-e77c-8ffcec52c8c0"
      },
      "execution_count": 188,
      "outputs": [
        {
          "output_type": "stream",
          "name": "stdout",
          "text": [
            "Mean Squared Error of Support Vector Regression  :  0.5201445244376509\n",
            "Root Mean Squared Error of Linear Regression     :  0.721210457798312\n",
            "Mean Absolute Error of Support Vector Regression :  0.4613124707953329\n",
            "R_Square of Support Vector Regression            :  0.45933550523544375\n"
          ]
        }
      ]
    },
    {
      "cell_type": "markdown",
      "source": [
        "# Comparison Between Models"
      ],
      "metadata": {
        "id": "C8VsrxlYPsvC"
      }
    },
    {
      "cell_type": "code",
      "source": [
        "x1 = np.array([\"Linear\", \"Polynomial\", \"Decision Tree\",\n",
        "                               \"Bayesian Ridge\", \"Random Forrest\", \"Support Vector\"]) \n",
        "y1 = np.array([mae_l, mae_p, mae_d, mae_b, mae_r, mae_s])\n",
        "x_pos = np.arange(len(x1))\n",
        "plt.bar(x1, y1,color=['dimgrey', 'maroon', 'mediumseagreen', 'cyan', 'steelblue','purple'])\n",
        "plt.xticks(x_pos, x1, rotation=90)\n",
        "plt.xlabel(\"Models\") #Y_train at x label\n",
        "plt.ylabel(\"Mean Absolute Error\") #predictedcalue at y label\n",
        "plt.title(\"Models vs Mean Absolute Error\")\n",
        "plt.show()"
      ],
      "metadata": {
        "colab": {
          "base_uri": "https://localhost:8080/",
          "height": 364
        },
        "id": "yXlK7mv2AxCm",
        "outputId": "6a4052d1-a721-4d6b-c86b-8ed89d9645a9"
      },
      "execution_count": 182,
      "outputs": [
        {
          "output_type": "display_data",
          "data": {
            "image/png": "[encoded data removed]",
            "text/plain": [
              "<Figure size 432x288 with 1 Axes>"
            ]
          },
          "metadata": {
            "needs_background": "light"
          }
        }
      ]
    },
    {
      "cell_type": "markdown",
      "source": [
        "Models vs Mean Squared Error"
      ],
      "metadata": {
        "id": "QeBGhkQZSj75"
      }
    },
    {
      "cell_type": "code",
      "source": [
        "x1 = np.array([\"Linear\", \"Polynomial\", \"Decision Tree\",\n",
        "                               \"Bayesian Ridge\", \"Random Forrest\", \"Support Vector\"]) \n",
        "y1 = np.array([mse_l, mse_p, mse_d, mse_b, mse_r, mse_s])\n",
        "x_pos = np.arange(len(x1))\n",
        "plt.bar(x1, y1,color=['dimgrey', 'maroon', 'mediumseagreen', 'cyan', 'steelblue','purple'])\n",
        "plt.xticks(x_pos, x1, rotation=90)\n",
        "plt.xlabel(\"Models\") \n",
        "plt.ylabel(\"Mean Squared Error\") \n",
        "plt.title(\"Models vs Mean Squared Error\")\n",
        "plt.show()"
      ],
      "metadata": {
        "colab": {
          "base_uri": "https://localhost:8080/",
          "height": 364
        },
        "id": "drFgo8QiJNo7",
        "outputId": "49476f4f-f252-4535-9c79-1426e61c4f5c"
      },
      "execution_count": 183,
      "outputs": [
        {
          "output_type": "display_data",
          "data": {
            "image/png": "[encoded data removed]",
            "text/plain": [
              "<Figure size 432x288 with 1 Axes>"
            ]
          },
          "metadata": {
            "needs_background": "light"
          }
        }
      ]
    },
    {
      "cell_type": "markdown",
      "source": [
        "Models vs Root Mean Squared Error"
      ],
      "metadata": {
        "id": "TcInzUrmShAJ"
      }
    },
    {
      "cell_type": "code",
      "source": [
        "x1 = np.array([\"Linear\", \"Polynomial\", \"Decision Tree\",\n",
        "                               \"Bayesian Ridge\", \"Random Forrest\", \"Support Vector\"]) \n",
        "y1 = np.array([rmse_l, rmse_p, rmse_d, rmse_b, rmse_r, rmse_s])\n",
        "x_pos = np.arange(len(x1))\n",
        "plt.bar(x1, y1,color=['dimgrey', 'maroon', 'mediumseagreen', 'cyan', 'steelblue','purple'])\n",
        "plt.xticks(x_pos, x1, rotation=90)\n",
        "plt.xlabel(\"Models\") #Y_train at x label\n",
        "plt.ylabel(\"Root Mean Squared Error\") #predictedcalue at y label\n",
        "plt.title(\"Models vs Root Mean Squared Error\")\n",
        "plt.show()"
      ],
      "metadata": {
        "colab": {
          "base_uri": "https://localhost:8080/",
          "height": 364
        },
        "id": "WBLIMCVbJfsa",
        "outputId": "ff90286c-e5d1-488b-9320-fc00733036a6"
      },
      "execution_count": 184,
      "outputs": [
        {
          "output_type": "display_data",
          "data": {
            "image/png": "[encoded data removed]",
            "text/plain": [
              "<Figure size 432x288 with 1 Axes>"
            ]
          },
          "metadata": {
            "needs_background": "light"
          }
        }
      ]
    },
    {
      "cell_type": "markdown",
      "source": [
        "Models vs R Squared Error"
      ],
      "metadata": {
        "id": "-tWyY_jOSeFh"
      }
    },
    {
      "cell_type": "code",
      "source": [
        "x1 = np.array([\"Linear\", \"Polynomial\", \"Decision Tree\",\n",
        "                               \"Bayesian Ridge\", \"Random Forrest\", \"Support Vector\"]) \n",
        "y1 = np.array([rsquare_l, rsquare_p, rsquare_d, rsquare_b, rsquare_r, rsquare_s])\n",
        "x_pos = np.arange(len(x1))\n",
        "plt.bar(x1, y1,color=['dimgrey', 'maroon', 'mediumseagreen', 'cyan', 'steelblue','purple'])\n",
        "plt.xticks(x_pos, x1, rotation=90)\n",
        "plt.xlabel(\"Models\") #Y_train at x label\n",
        "plt.ylabel(\"R-Squared  Error\") #predictedcalue at y label\n",
        "plt.title(\"Models vs R Squared Error\")\n",
        "plt.show()"
      ],
      "metadata": {
        "colab": {
          "base_uri": "https://localhost:8080/",
          "height": 364
        },
        "id": "g09l-mf3KNny",
        "outputId": "18828eda-4a01-483a-9722-fc56c325cc33"
      },
      "execution_count": 185,
      "outputs": [
        {
          "output_type": "display_data",
          "data": {
            "image/png": "[encoded data removed]",
            "text/plain": [
              "<Figure size 432x288 with 1 Axes>"
            ]
          },
          "metadata": {
            "needs_background": "light"
          }
        }
      ]
    }
  ]
}